{
 "cells": [
  {
   "cell_type": "code",
   "execution_count": 4,
   "id": "4022a322",
   "metadata": {},
   "outputs": [
    {
     "name": "stdout",
     "output_type": "stream",
     "text": [
      "wonderwomen\n"
     ]
    }
   ],
   "source": [
    "class wordbuilder:\n",
    "    def __init__(self,fragments):\n",
    "        self.fragments=fragments\n",
    "    def build(self):\n",
    "        return''.join(self.fragments)\n",
    "W= wordbuilder([\"wonder\",\"women\"])\n",
    "print(W.build())    "
   ]
  },
  {
   "cell_type": "code",
   "execution_count": 12,
   "id": "b480e429",
   "metadata": {},
   "outputs": [
    {
     "name": "stdout",
     "output_type": "stream",
     "text": [
      "Total: rs 150\n",
      "Total: rs 270.0\n",
      "Total Sales: rs 420.0\n"
     ]
    }
   ],
   "source": [
    "class Ticket:\n",
    "    def __init__(self, price):\n",
    "        self.price = price\n",
    "\n",
    "class Booth:\n",
    "    def __init__(self): \n",
    "        self.sales = 0\n",
    "    def buy(self, prices):\n",
    "        total = sum(prices)\n",
    "        if len(prices) >= 3: total *= 0.9 \n",
    "        self.sales += total\n",
    "        print(f\"Total: rs {total}\")\n",
    "    def report(self): print(f\"Total Sales: rs {self.sales}\")\n",
    "\n",
    "b = Booth()\n",
    "b.buy([100, 50])         \n",
    "b.buy([150,100, 50])\n",
    "b.report()\n"
   ]
  },
  {
   "cell_type": "code",
   "execution_count": null,
   "id": "116c7d67",
   "metadata": {},
   "outputs": [
    {
     "name": "stdout",
     "output_type": "stream",
     "text": [
      "6766651746440350011\n",
      "45\n",
      "78\n",
      "0\n"
     ]
    }
   ],
   "source": [
    "# DAY-1\n",
    "\n",
    "# Hashing -we want to convert the data into a fixed value using hash function.\n",
    "#hash()\n",
    "\n",
    "print(hash(\"Akash\"))\n",
    "print(hash(45))\n",
    "print(hash(78.0))\n",
    "print(hash(False))\n",
    "\n",
    "#Hash maps, #hash sets\n",
    "#why we use hashing-o(n^2),(o(n))\n",
    "\n"
   ]
  },
  {
   "cell_type": "code",
   "execution_count": 13,
   "id": "8ca2d516",
   "metadata": {},
   "outputs": [
    {
     "name": "stdout",
     "output_type": "stream",
     "text": [
      "12\n",
      "34\n",
      "56\n"
     ]
    }
   ],
   "source": [
    "#Time-how much it will take to execute a program\n",
    "#Space-how much space required to perform the program\n",
    "\n",
    "n=1000\n",
    "list=[12,34,56] #o(1)\n",
    "for i in list: #o(n)\n",
    "    # for j in(n+1):#o(n^2)\n",
    "#Searchinf,tree-o(logn)        \n",
    "    print(i)"
   ]
  },
  {
   "cell_type": "code",
   "execution_count": 14,
   "id": "26fd9a1b",
   "metadata": {},
   "outputs": [
    {
     "name": "stdout",
     "output_type": "stream",
     "text": [
      "6586756101419746589\n",
      "7833773091238616434\n",
      "-8227298734097393991\n"
     ]
    }
   ],
   "source": [
    "list=[\"chery\",\"candy\",\"sweety\"]\n",
    "for i in list:\n",
    "    print(hash(i))"
   ]
  },
  {
   "cell_type": "code",
   "execution_count": 15,
   "id": "1e23280d",
   "metadata": {},
   "outputs": [
    {
     "name": "stdout",
     "output_type": "stream",
     "text": [
      "{'G': 1, 'o': 3, 'd': 1, ' ': 1, 'm': 1, 'r': 1, 'n': 2, 'i': 1, 'g': 1}\n"
     ]
    }
   ],
   "source": [
    "#Hash set\n",
    "#Hash map\n",
    "#counter,dict,defaultdict\n",
    "#Good Morning-count the character\n",
    "\n",
    "a=\"Good morning\"\n",
    "b={}\n",
    "for i in a:\n",
    "    if i not in b:\n",
    "        b[i]= 1\n",
    "    else:\n",
    "        b[i]+=1\n",
    "print(b)\n"
   ]
  },
  {
   "cell_type": "code",
   "execution_count": 17,
   "id": "f83b980a",
   "metadata": {},
   "outputs": [
    {
     "name": "stdout",
     "output_type": "stream",
     "text": [
      "Counter({'a': 3, 'n': 2, 'b': 1})\n"
     ]
    }
   ],
   "source": [
    "from collections import Counter\n",
    "a=\"banana\"\n",
    "print(Counter(a))"
   ]
  },
  {
   "cell_type": "code",
   "execution_count": 18,
   "id": "ef1203f6",
   "metadata": {},
   "outputs": [
    {
     "name": "stdout",
     "output_type": "stream",
     "text": [
      "{'b': 1, 'a': 3, 'n': 2}\n"
     ]
    }
   ],
   "source": [
    "\n",
    "a=\"banana\"\n",
    "dict={}\n",
    "for ch in a:\n",
    "    if ch in dict:\n",
    "        dict[ch]+=1\n",
    "    else:\n",
    "        dict[ch]=1\n",
    "print(dict)    \n"
   ]
  },
  {
   "cell_type": "code",
   "execution_count": 1,
   "id": "cb660777",
   "metadata": {},
   "outputs": [
    {
     "name": "stdout",
     "output_type": "stream",
     "text": [
      "-49290273305182677\n",
      "6294078996129470870\n"
     ]
    }
   ],
   "source": [
    "person={\"name\":\"Avani\",\"age\":22}\n",
    "print(hash(\"name\"))\n",
    "print(hash(\"age\"))"
   ]
  },
  {
   "cell_type": "code",
   "execution_count": null,
   "id": "e12e463c",
   "metadata": {},
   "outputs": [],
   "source": [
    "#This hash value will help to store and we can find it fast.\n",
    "#hashable-it can be used as dict key or set element"
   ]
  },
  {
   "cell_type": "code",
   "execution_count": 3,
   "id": "bd7bedef",
   "metadata": {},
   "outputs": [
    {
     "name": "stdout",
     "output_type": "stream",
     "text": [
      "riswan\n"
     ]
    }
   ],
   "source": [
    "#custom class using __hash__and__eq__function\n",
    "\n",
    "class student():\n",
    "    def __init__(self,roll):\n",
    "        self.roll=roll\n",
    "    def __hash__(self):\n",
    "        return hash(self.roll)\n",
    "    def __eq__(self,other):\n",
    "        return self.roll==other.roll\n",
    "s1=student(101)\n",
    "s2=student(101)\n",
    "\n",
    "d={}\n",
    "d[s1]=\"riswan\"\n",
    "print(d[s2])"
   ]
  },
  {
   "cell_type": "code",
   "execution_count": 4,
   "id": "148f1d71",
   "metadata": {},
   "outputs": [
    {
     "name": "stdout",
     "output_type": "stream",
     "text": [
      "-3534534738332910995\n",
      "3593388860163227914\n"
     ]
    }
   ],
   "source": [
    "#Hash collision- two differrent objects may return the same hash \n",
    "\n",
    "print(hash(\"Aa\"))\n",
    "print(hash(\"Bb\"))"
   ]
  },
  {
   "cell_type": "code",
   "execution_count": 6,
   "id": "8e97fcb6",
   "metadata": {},
   "outputs": [
    {
     "name": "stdout",
     "output_type": "stream",
     "text": [
      "['Godson', 'Razi', 'Akash']\n"
     ]
    }
   ],
   "source": [
    "list=[\"Godson\",\"Razi\",\"Akash\",\"Akash\"]\n",
    "uni=[]\n",
    "for i in list:\n",
    "    if i not in uni:\n",
    "        uni.append(i)\n",
    "print (uni)    "
   ]
  },
  {
   "cell_type": "code",
   "execution_count": 9,
   "id": "82a5c022",
   "metadata": {},
   "outputs": [
    {
     "name": "stdout",
     "output_type": "stream",
     "text": [
      "['The', 'sat', 'on', 'the']\n"
     ]
    }
   ],
   "source": [
    "a=\"The cat sat on the mat\"\n",
    "b=\"The dog sat on the fog\"\n",
    "s_a=a.split()\n",
    "s_b=b.split()\n",
    "list=[]\n",
    "for i in s_a:\n",
    "    if i in s_b:\n",
    "        list.append(i) \n",
    "print(list)"
   ]
  },
  {
   "cell_type": "code",
   "execution_count": 11,
   "id": "439a75ea",
   "metadata": {},
   "outputs": [
    {
     "name": "stdout",
     "output_type": "stream",
     "text": [
      "{'Akash', 'Razi', 'Godson'}\n"
     ]
    }
   ],
   "source": [
    "#using set\n",
    "\n",
    "list=[\"Godson\",\"Razi\",\"Akash\",\"Akash\"]\n",
    "st1=set(list)\n",
    "print(st1)"
   ]
  },
  {
   "cell_type": "code",
   "execution_count": 15,
   "id": "236de212",
   "metadata": {},
   "outputs": [
    {
     "name": "stdout",
     "output_type": "stream",
     "text": [
      "['the', 'The', 'on', 'sat']\n"
     ]
    }
   ],
   "source": [
    "a=\"The cat sat on the mat\"\n",
    "b=\"The dog sat on the fog\"\n",
    "list1=[]\n",
    "\n",
    "s_a=a.split()\n",
    "s_b=b.split()\n",
    "\n",
    "set1=set(s_a)\n",
    "set2=set(s_b)\n",
    "\n",
    "for i in set1:\n",
    "    if i in set2:\n",
    "        list1.append(i)\n",
    "print(list1)        \n",
    "\n"
   ]
  },
  {
   "cell_type": "code",
   "execution_count": 1,
   "id": "6f130bb2",
   "metadata": {},
   "outputs": [
    {
     "name": "stdout",
     "output_type": "stream",
     "text": [
      "['sat', 'The', 'on', 'the']\n"
     ]
    }
   ],
   "source": [
    "a=\"The cat sat on the mat\"\n",
    "b=\"The dog sat on the fog\"\n",
    "\n",
    "result=list(set(a.split())&set(b.split()))\n",
    "print(result)"
   ]
  },
  {
   "cell_type": "code",
   "execution_count": 5,
   "id": "3023f7fb",
   "metadata": {},
   "outputs": [
    {
     "name": "stdout",
     "output_type": "stream",
     "text": [
      "[['A1', ['chennai', 'mumbai']], ['B1', ['kozhikode']]]\n"
     ]
    }
   ],
   "source": [
    "#location grouping\n",
    "\n",
    "def grouping(pairs):\n",
    "    list1=[]\n",
    "    for code,location in pairs:\n",
    "        found=False\n",
    "        for group in list1:\n",
    "            if(group[0]==code):\n",
    "                group[1].append(location)\n",
    "                found= True\n",
    "        if not found:\n",
    "            list1.append([code,[location]])\n",
    "    return list1                \n",
    "\n",
    "data=[(\"A1\",\"chennai\"),(\"B1\",\"kozhikode\"),(\"A1\",\"mumbai\")]\n",
    "print(grouping(data))"
   ]
  },
  {
   "cell_type": "code",
   "execution_count": 7,
   "id": "24021b06",
   "metadata": {},
   "outputs": [
    {
     "name": "stdout",
     "output_type": "stream",
     "text": [
      "{'A1': ['chennai', 'mumbai'], 'B1': ['kozhikode']}\n"
     ]
    }
   ],
   "source": [
    "data=[(\"A1\",\"chennai\"),(\"B1\",\"kozhikode\"),(\"A1\",\"mumbai\")]\n",
    "dictionary={}\n",
    "for code,location in data:\n",
    "    if code not in dictionary:\n",
    "        dictionary[code]=[]\n",
    "    dictionary [code].append(location)\n",
    "print(dictionary)        \n"
   ]
  },
  {
   "cell_type": "code",
   "execution_count": 9,
   "id": "4a97a413",
   "metadata": {},
   "outputs": [
    {
     "name": "stdout",
     "output_type": "stream",
     "text": [
      "[3, 2]\n"
     ]
    }
   ],
   "source": [
    "def findduplicates(nums):\n",
    "    dict={}\n",
    "    result=[]\n",
    "\n",
    "    for i in nums:\n",
    "        dict[i]=dict.get(i,0)+1\n",
    "\n",
    "    for i,count in dict.items():\n",
    "        if count==2:\n",
    "            result.append(i)\n",
    "\n",
    "    return result\n",
    "nums=[4,3,2,7,8,2,3,1]\n",
    "print(findduplicates(nums))            "
   ]
  },
  {
   "cell_type": "code",
   "execution_count": 1,
   "id": "42062287",
   "metadata": {},
   "outputs": [
    {
     "name": "stdout",
     "output_type": "stream",
     "text": [
      "[2, 3]\n"
     ]
    }
   ],
   "source": [
    "nums = [3,4,2,7,8,2,3,1]\n",
    "list1 = []\n",
    "list2 = []\n",
    "for i in nums:\n",
    "    if i not in list1:\n",
    "        list1.append(i)\n",
    "    else:\n",
    "        list2.append(i)\n",
    "print(list2)\n"
   ]
  },
  {
   "cell_type": "code",
   "execution_count": 11,
   "id": "95ff96e6",
   "metadata": {},
   "outputs": [
    {
     "name": "stdout",
     "output_type": "stream",
     "text": [
      "[4, 9]\n"
     ]
    }
   ],
   "source": [
    "a=[4,9,5]\n",
    "b=[9,4,9,8,4]\n",
    "list=[]\n",
    "for i in a:\n",
    "    if i in b:\n",
    "        list.append(i)\n",
    "print(list)"
   ]
  },
  {
   "cell_type": "code",
   "execution_count": null,
   "id": "91733dee",
   "metadata": {},
   "outputs": [
    {
     "name": "stdout",
     "output_type": "stream",
     "text": [
      "pen added to the box.\n",
      "watch added to the box.\n",
      "bottle added to the box.\n",
      "Yes! Found the pen in the box.\n"
     ]
    }
   ],
   "source": [
    " #1. The Lost and Found Box (Duplicate Item Detection)\n",
    "Story:\n",
    "#You’re in charge of a Lost & Found box in your college. Every time someone reports a lost item, you check if it’s already in the box.\n",
    "#Problem: How do you avoid checking every item one by one (which is slow)?\n",
    "#Solution using Hashing:\n",
    "#You keep a set (hash table) of item names like {\"watch\", \"pen\", \"bottle\"}.\n",
    "#Every time someone reports a new item, you check the hash table:\n",
    "#•\tIf it's there: \"Yes! Found it!\"\n",
    "#•\tIf not: Add to the set and store the item.\n",
    "#\n",
    "# \n",
    "# ➡ Real use: This is how computers check for duplicate files, logins, or data super fast.\n",
    "\n",
    "\n",
    "lost_and_found = set()\n",
    "def report_item(item):\n",
    "    if item in lost_and_found:\n",
    "        print(f\"Yes! Found the {item} in the box.\")\n",
    "    else:\n",
    "        lost_and_found.add(item)\n",
    "        print(f\"{item} added to the box.\")\n",
    "report_item(\"pen\")\n",
    "report_item(\"watch\")\n",
    "report_item(\"bottle\")\n",
    "report_item(\"pen\")  \n"
   ]
  },
  {
   "cell_type": "code",
   "execution_count": null,
   "id": "237758c8",
   "metadata": {},
   "outputs": [
    {
     "name": "stdout",
     "output_type": "stream",
     "text": [
      "Real Password: sunshine123\n",
      "Hashed Password: 816a4092660e4e87b5b584c4a51e7b33db2fb1b8f972578ef90c5ed7608e0f19\n"
     ]
    }
   ],
   "source": [
    "# 2. Secret Diary Lock (Password Hashing)\n",
    "#Story:\n",
    "#You write in your diary and lock it with a password. But you don’t want to write the real password on the lock—it’s unsafe.\n",
    "#Problem: How do you store the lock's code without exposing your real password?\n",
    "#Solution using Hashing:\n",
    "#You hash the password like this:\n",
    "#•\tReal password: \"sunshine123\"\n",
    "#•\tHashed: \"5ae9f8abc...\"\n",
    "\n",
    "import hashlib\n",
    "def hash_password(password):\n",
    "    return hashlib.sha256(password.encode()).hexdigest()\n",
    "real_password = \"sunshine123\"\n",
    "hashed_password = hash_password(real_password)\n",
    "\n",
    "print(\"Real Password:\", real_password)\n",
    "print(\"Hashed Password:\", hashed_password)\n"
   ]
  }
 ],
 "metadata": {
  "kernelspec": {
   "display_name": "Python 3",
   "language": "python",
   "name": "python3"
  },
  "language_info": {
   "codemirror_mode": {
    "name": "ipython",
    "version": 3
   },
   "file_extension": ".py",
   "mimetype": "text/x-python",
   "name": "python",
   "nbconvert_exporter": "python",
   "pygments_lexer": "ipython3",
   "version": "3.13.5"
  }
 },
 "nbformat": 4,
 "nbformat_minor": 5
}
