{
 "cells": [
  {
   "cell_type": "code",
   "execution_count": 1,
   "id": "3d3c1120",
   "metadata": {},
   "outputs": [
    {
     "data": {
      "text/plain": [
       "'\\n1.push-add the elements into the stack.\\n2.pop-remove the elements from the stack.\\n3.Top or(peak)-it returns top of the element(last element)\\n4.Isempty-checks whether the stack is empty or not.\\n5.size-the size of stack.\\n'"
      ]
     },
     "execution_count": 1,
     "metadata": {},
     "output_type": "execute_result"
    }
   ],
   "source": [
    "#Stack-last in first out(LIFO)\n",
    "#Queue-first in first out(FIFO)\n",
    "#Linear data structure #o(1)\n",
    "#Stack methods\n",
    "'''\n",
    "1.push-add the elements into the stack.\n",
    "2.pop-remove the elements from the stack.\n",
    "3.Top or(peak)-it returns top of the element(last element)\n",
    "4.Isempty-checks whether the stack is empty or not.\n",
    "5.size-the size of stack.\n",
    "'''"
   ]
  },
  {
   "cell_type": "code",
   "execution_count": 2,
   "id": "d7a5a13c",
   "metadata": {},
   "outputs": [
    {
     "name": "stdout",
     "output_type": "stream",
     "text": [
      "[3, 6, 7]\n"
     ]
    }
   ],
   "source": [
    "stack=[]\n",
    "stack.append(3)\n",
    "stack.append(6)\n",
    "stack.append(7)\n",
    "print(stack)"
   ]
  },
  {
   "cell_type": "code",
   "execution_count": 3,
   "id": "2a8163ab",
   "metadata": {},
   "outputs": [
    {
     "name": "stdout",
     "output_type": "stream",
     "text": [
      "None\n",
      "None\n",
      "None\n",
      "[3, 6, 7]\n",
      "[3, 6]\n",
      "[3, 6]\n"
     ]
    },
    {
     "data": {
      "text/plain": [
       "2"
      ]
     },
     "execution_count": 3,
     "metadata": {},
     "output_type": "execute_result"
    }
   ],
   "source": [
    "class stack():\n",
    "    def __init__(self):\n",
    "        self.stack=[]\n",
    "    def push(self,elements):\n",
    "        self.stack.append(elements)\n",
    "    def pop(self):\n",
    "        if self.is_empty():\n",
    "            print(\"The stack is empty so we cant pop\")\n",
    "        return self.stack.pop()\n",
    "    def peek(self):\n",
    "        return self.stack[-1]\n",
    "    def is_empty(self):\n",
    "        return len(self.stack)==0\n",
    "    def size(self):\n",
    "        return len(self.stack)\n",
    "    def display(self):\n",
    "        print (self.stack)\n",
    "mystack=stack()\n",
    "print(mystack.push(3))\n",
    "print(mystack.push(6))\n",
    "print(mystack.push(7))\n",
    "mystack.display()\n",
    "mystack.pop()\n",
    "mystack.display()\n",
    "mystack.peek()\n",
    "mystack.display()\n",
    "mystack.is_empty()\n",
    "mystack.size()                "
   ]
  },
  {
   "cell_type": "code",
   "execution_count": 4,
   "id": "650f6ce6",
   "metadata": {},
   "outputs": [
    {
     "name": "stdout",
     "output_type": "stream",
     "text": [
      "False\n",
      "True\n",
      "False\n",
      "True\n",
      "False\n",
      "True\n",
      "True\n"
     ]
    }
   ],
   "source": [
    "#ex, {()}\n",
    "#valid paranthesis\n",
    "s=\"{()}\"\n",
    "pairs = {')':'(',']':'[','}':'{'}\n",
    "#stack concept\n",
    "list=[]\n",
    "for ch in pairs:\n",
    "    if ch in pairs.values():  #opening brackets\n",
    "        list.append(ch)\n",
    "    elif  ch in pairs:          #closing brackets\n",
    "        if not list or list.pop()!=pairs[ch]:#closing Brackets\n",
    "            print(\"False\")\n",
    "        print(\"True\")\n",
    "print(len(list)==0)\n",
    "#)\n",
    "#]\n",
    "#}\n"
   ]
  },
  {
   "cell_type": "code",
   "execution_count": 5,
   "id": "4263ae57",
   "metadata": {},
   "outputs": [
    {
     "ename": "SyntaxError",
     "evalue": "invalid syntax (3173074837.py, line 22)",
     "output_type": "error",
     "traceback": [
      "  \u001b[36mCell\u001b[39m\u001b[36m \u001b[39m\u001b[32mIn[5]\u001b[39m\u001b[32m, line 22\u001b[39m\n\u001b[31m    \u001b[39m\u001b[31mA1=\u001b[39m\n       ^\n\u001b[31mSyntaxError\u001b[39m\u001b[31m:\u001b[39m invalid syntax\n"
     ]
    }
   ],
   "source": [
    "class minstack():\n",
    "    def __init__(self):\n",
    "        self.stack=[]\n",
    "        self.min_stack=[]\n",
    "    def push(self,val):\n",
    "        self.stack.append(val)\n",
    "        print(self.stack)\n",
    "        if not self.min_stack or val <= self.min_stack[-1]:\n",
    "            self.min_stack.append(val) \n",
    "            print(self.min_stack)\n",
    "    \n",
    "    def pop(self):\n",
    "        if self.stack[-1]==self.min_stack[-1]:\n",
    "            return self.min_stack\n",
    "        return self.stack.pop()\n",
    "    \n",
    "    def top(self):\n",
    "        return self.min_stack[-1]\n",
    "    def get_min(self):\n",
    "        return self.min_stack[-1]\n",
    "    \n",
    "    A1=\n",
    "        \n",
    "\n",
    "\n"
   ]
  },
  {
   "cell_type": "code",
   "execution_count": null,
   "id": "e1e3cab3",
   "metadata": {},
   "outputs": [],
   "source": [
    "s=\"ab#c\"\n",
    "t=\"ad#c\"\n",
    "s1=[]\n",
    "s2=[]\n",
    "for ch in s:\n",
    "    if ch!=\"#\":\n",
    "        s1.append(ch)\n",
    "    elif s1:\n",
    "        s1.pop()\n",
    "for ch in t:\n",
    "    if ch != \"#\":\n",
    "        s2.append(ch)\n",
    "    elif s2:\n",
    "        s2.pop()\n",
    "print(s1==s2)"
   ]
  },
  {
   "cell_type": "code",
   "execution_count": null,
   "id": "8fb97d19",
   "metadata": {},
   "outputs": [],
   "source": []
  }
 ],
 "metadata": {
  "kernelspec": {
   "display_name": "Python 3",
   "language": "python",
   "name": "python3"
  },
  "language_info": {
   "codemirror_mode": {
    "name": "ipython",
    "version": 3
   },
   "file_extension": ".py",
   "mimetype": "text/x-python",
   "name": "python",
   "nbconvert_exporter": "python",
   "pygments_lexer": "ipython3",
   "version": "3.13.5"
  }
 },
 "nbformat": 4,
 "nbformat_minor": 5
}
