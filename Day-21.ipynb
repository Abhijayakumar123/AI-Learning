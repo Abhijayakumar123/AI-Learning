{
 "cells": [
  {
   "cell_type": "code",
   "execution_count": null,
   "id": "ff62f91b",
   "metadata": {},
   "outputs": [],
   "source": [
    "#[0:3] - 30\n",
    "#[1:4] - 40\n",
    "#[2:5] - 40\n",
    "#[3:6] - 40\n",
    "#[4:7] - 50\n",
    "\n"
   ]
  },
  {
   "cell_type": "code",
   "execution_count": 2,
   "id": "318b8369",
   "metadata": {},
   "outputs": [
    {
     "name": "stdout",
     "output_type": "stream",
     "text": [
      "9\n"
     ]
    }
   ],
   "source": [
    "#recursion \n",
    "def add(a,b):\n",
    "    return a+b\n",
    "print(add(4,5))"
   ]
  },
  {
   "cell_type": "code",
   "execution_count": 1,
   "id": "510ef97a",
   "metadata": {},
   "outputs": [
    {
     "name": "stdout",
     "output_type": "stream",
     "text": [
      "Dosa Ready\n",
      "Dosa Ready\n",
      "Dosa Ready\n",
      "Dosa Ready\n",
      "Dosa Ready\n",
      "Dosa Ready\n",
      "Dosa Ready\n",
      "Dosa Ready\n",
      "Dosa Ready\n",
      "1\n"
     ]
    }
   ],
   "source": [
    "#Recursion\n",
    "def dosai(dosa__maavu):\n",
    "    if dosa__maavu == 1 : # Base case= 3\n",
    "        return 1\n",
    "    elif dosa__maavu >1 :\n",
    "        print(\"Dosa Ready\") \n",
    "        return dosai(dosa__maavu-1)\n",
    "p=dosai(10)\n",
    "print(p)\n",
    "\n",
    "\n",
    "    \n",
    "    \n",
    "        "
   ]
  },
  {
   "cell_type": "code",
   "execution_count": 2,
   "id": "cd98dabe",
   "metadata": {},
   "outputs": [
    {
     "name": "stdout",
     "output_type": "stream",
     "text": [
      "24\n"
     ]
    }
   ],
   "source": [
    "#Factorial\n",
    "def fact(n):\n",
    "    if (n>1):\n",
    "        return n*fact(n-1)\n",
    "    return n\n",
    "print(fact(4))"
   ]
  },
  {
   "cell_type": "code",
   "execution_count": 3,
   "id": "424150e5",
   "metadata": {},
   "outputs": [
    {
     "name": "stdout",
     "output_type": "stream",
     "text": [
      "5\n"
     ]
    }
   ],
   "source": [
    "#Fibonacci Series\n",
    "'''\n",
    "f(0)=0           f(n)=f((n-1)+(n-1))\n",
    "f(1)=1\n",
    "f(2)=1+0=2\n",
    "f(3)=1+1=2\n",
    "f(4)=2+1=3\n",
    "f(5)=3+2=8\n",
    "\n",
    "\n",
    "\n",
    "'''\n",
    "\n",
    "\n",
    "def fibonacci(n):\n",
    "    a=0\n",
    "    b=1\n",
    "    if(n==0):\n",
    "        return 1\n",
    "    elif (n==0):\n",
    "        return 0\n",
    "    for i in range (2,n+1):\n",
    "        temp =a+b\n",
    "        a=b\n",
    "        b=temp\n",
    "    return b\n",
    "print(fibonacci(5))\n",
    "\n",
    "\n",
    "\n",
    "\n"
   ]
  },
  {
   "cell_type": "code",
   "execution_count": 4,
   "id": "b681d9a8",
   "metadata": {},
   "outputs": [
    {
     "name": "stdout",
     "output_type": "stream",
     "text": [
      "21\n"
     ]
    }
   ],
   "source": [
    "def fibonacci(n):\n",
    "    if(n==0):\n",
    "        return 0\n",
    "    elif (n==1):\n",
    "        return 1\n",
    "    return fibonacci(n-1)+fibonacci(n-2)\n",
    "print(fibonacci(8))"
   ]
  },
  {
   "cell_type": "code",
   "execution_count": 5,
   "id": "677c3414",
   "metadata": {},
   "outputs": [
    {
     "data": {
      "text/plain": [
       "10"
      ]
     },
     "execution_count": 5,
     "metadata": {},
     "output_type": "execute_result"
    }
   ],
   "source": [
    "#sum of digits\n",
    "def sum_of_digits(n):\n",
    "    sum=0\n",
    "    while(n>0):\n",
    "        sum +=n%10\n",
    "        n=n//10\n",
    "    return sum\n",
    "sum_of_digits(1234)"
   ]
  },
  {
   "cell_type": "code",
   "execution_count": 6,
   "id": "aa95b057",
   "metadata": {},
   "outputs": [
    {
     "data": {
      "text/plain": [
       "10"
      ]
     },
     "execution_count": 6,
     "metadata": {},
     "output_type": "execute_result"
    }
   ],
   "source": [
    "#sum of digits\n",
    "\n",
    "def sum_of_digits(n):\n",
    "    if(n==0):\n",
    "        return 0\n",
    "    return (n%10)+(sum_of_digits(n//10))\n",
    "sum_of_digits(1234)"
   ]
  },
  {
   "cell_type": "code",
   "execution_count": 7,
   "id": "f9cd6851",
   "metadata": {},
   "outputs": [
    {
     "name": "stdout",
     "output_type": "stream",
     "text": [
      "5\n"
     ]
    }
   ],
   "source": [
    "#Imagine you have a stack of coins.\n",
    "#You want to count how many coins are there in the stack\n",
    "#but you can remove only one at a time and remove it to a back\n",
    "#write a recursive program\n",
    "\n",
    "list1 = [1, 1, 0, 1, 1]\n",
    "\n",
    "def count_coins(stack):\n",
    "\tif not stack:\n",
    "\t\treturn 0\n",
    "\treturn 1 + count_coins(stack[1:])\n",
    "\n",
    "print(count_coins(list1))"
   ]
  },
  {
   "cell_type": "code",
   "execution_count": 8,
   "id": "85e97848",
   "metadata": {},
   "outputs": [
    {
     "name": "stdout",
     "output_type": "stream",
     "text": [
      "4\n"
     ]
    }
   ],
   "source": [
    "def coins(list1):\n",
    "    if not list1:\n",
    "        return 0\n",
    "    return 1+coins(list1[1:])\n",
    "list1=[1,1,1,1]\n",
    "print(coins(list1))"
   ]
  },
  {
   "cell_type": "code",
   "execution_count": 11,
   "id": "dbf94b47",
   "metadata": {},
   "outputs": [
    {
     "name": "stdout",
     "output_type": "stream",
     "text": [
      "3\n"
     ]
    }
   ],
   "source": [
    "def coins(list1):\n",
    "    if not list1:\n",
    "        return 0#base case\n",
    "    return list1.pop(0)+coins(list1)#recursive case\n",
    "list1=[1,1,0,1]\n",
    "print(coins(list1))"
   ]
  },
  {
   "cell_type": "code",
   "execution_count": 9,
   "id": "5fc7fc02",
   "metadata": {},
   "outputs": [
    {
     "name": "stdout",
     "output_type": "stream",
     "text": [
      "100\n"
     ]
    }
   ],
   "source": [
    "def folder_name(folder):\n",
    "    \n",
    "    total=0\n",
    "    for key,values in folder.items():\n",
    "        if isinstance(values,dict):\n",
    "            total+=folder_name(values)\n",
    "        else:   \n",
    "             total+=values\n",
    "    return total\n",
    "folder1={\"file1\":10,\"folder2\":{\"file2\":40,\"file3\":30},\"file4\":20}    \n",
    "print(folder_name(folder1))         \n",
    "\n"
   ]
  },
  {
   "cell_type": "code",
   "execution_count": null,
   "id": "4ed0faa6",
   "metadata": {},
   "outputs": [],
   "source": [
    "#Backtracking\n",
    "\n",
    "'''\n",
    "function backtracking(state):\n",
    "    if state is a solution:\n",
    "       return state\n",
    "    for choice in all posssible choices:\n",
    "         if choice is valid:\n",
    "             make choice\n",
    "             result=baktracking(state with choice)\n",
    "             if result is not failure:\n",
    "                return result\n",
    "             undo choice\n",
    "   return failure\n",
    "'''    "
   ]
  },
  {
   "cell_type": "code",
   "execution_count": 2,
   "id": "d2ef4832",
   "metadata": {},
   "outputs": [],
   "source": [
    "#pin number\n",
    "def pin_number(path,digits,used):\n",
    "    if(len(path)==len(digits)):\n",
    "        return path\n",
    "    for i in range(len(digits)):\n",
    "        if not used[i]:\n",
    "            used[i]=True\n",
    "            path.append(digits[i])\n",
    "            pin_number(path,digits,used)\n",
    "            path.pop()\n",
    "            used[i]=False\n",
    "result=[]\n",
    "digits=[1,2,3]\n",
    "used=[False]*len(digits)      \n",
    "pin_number(digits,used,result)\n",
    "for i in result:\n",
    "    print(i)"
   ]
  },
  {
   "cell_type": "code",
   "execution_count": 3,
   "id": "84bcb041",
   "metadata": {},
   "outputs": [
    {
     "name": "stdout",
     "output_type": "stream",
     "text": [
      "5\n"
     ]
    }
   ],
   "source": [
    "# Assignment 5 - 6/8/2025\n",
    "\n",
    "# [Recursion Q1] – Climbing Stairs\n",
    "# Scenario:\n",
    "# You are climbing stairs. You can take 1 or 2 steps at a time.\n",
    "# How many different ways can you climb to the top of a staircase with n steps?\n",
    "# Real-life: Choosing how to climb stairs at home – small or big steps.\n",
    "# Input:\n",
    "# n = 4\n",
    "# Output:\n",
    "# 5\n",
    "# Explanation:\n",
    "# Ways = [1+1+1+1], [1+1+2], [1+2+1], [2+1+1], [2+2]\n",
    "\n",
    "\n",
    "\n",
    "\n",
    "def fib(n):\n",
    "    if n == 0 or n == 1:\n",
    "        return 1\n",
    "    return fib(n - 1) + fib(n - 2)\n",
    "\n",
    "print(fib(4))"
   ]
  },
  {
   "cell_type": "code",
   "execution_count": 2,
   "id": "efade23b",
   "metadata": {},
   "outputs": [
    {
     "name": "stdout",
     "output_type": "stream",
     "text": [
      "Path 1: R -> R -> D -> D\n",
      "Path 2: D -> D -> R -> R\n"
     ]
    }
   ],
   "source": [
    "# Q2. Maze Path Finder (Recursion + Backtracking)\n",
    "# Scenario:\n",
    "# You are designing a robot for a warehouse. The robot starts at the top-left corner of a grid and must reach the bottom-right corner. It can only move down or right, and some cells have obstacles.\n",
    "# Task:\n",
    "# Given a grid with 0 (free) and 1 (obstacle), find all possible paths from start to end using recursion and backtracking.\n",
    "# Tags: Recursion, grid traversal, real-time path planning\n",
    "\n",
    "\n",
    "\n",
    "def find(grid):\n",
    "    rows, cols = len(grid), len(grid[0])\n",
    "    result = []\n",
    "\n",
    "    def backtrack(r, c, path):\n",
    "        if r >= rows or c >= cols or grid[r][c] == 1:\n",
    "            return\n",
    "\n",
    "        if r == rows - 1 and c == cols - 1:\n",
    "            result.append(path.copy())\n",
    "            return\n",
    "\n",
    "        path.append(\"R\")\n",
    "        backtrack(r, c + 1, path)\n",
    "        path.pop()\n",
    "\n",
    "        path.append(\"D\")\n",
    "        backtrack(r + 1, c, path)\n",
    "        path.pop()\n",
    "\n",
    "    backtrack(0, 0, [])\n",
    "    return result\n",
    "\n",
    "grid = [\n",
    "    [0, 0, 0],\n",
    "    [0, 1, 0],\n",
    "    [0, 0, 0]\n",
    "]\n",
    "\n",
    "paths = find(grid)\n",
    "for i, p in enumerate(paths, 1):\n",
    "    print(f\"Path {i}: {' -> '.join(p)}\")"
   ]
  },
  {
   "cell_type": "code",
   "execution_count": null,
   "id": "80619f18",
   "metadata": {},
   "outputs": [
    {
     "name": "stdout",
     "output_type": "stream",
     "text": [
      "Combo 1: [200, 200, 150, 150]\n",
      "Combo 2: [200, 250, 250]\n",
      "Combo 3: [250, 150, 150, 150]\n"
     ]
    }
   ],
   "source": [
    "#  Q3. Menu Combinations for Calories (Backtracking)\n",
    "# Scenario:\n",
    "# A restaurant wants to find all combinations of dishes that sum up to exactly 700 calories for diet plans. Each dish has a calorie value, and dishes can be repeated.\n",
    "\n",
    "\n",
    "# Task:\n",
    "# Given a list of dish calorie values, and a target, find all combinations where dishes sum to target calories.\n",
    "# Example:\n",
    "# dishes = [200, 250, 150]\n",
    "# target = 700\n",
    "# Tags: Backtracking, combination sum, menu planning    \n",
    "\n",
    "\n",
    "def find(dishes, target):\n",
    "    result = []\n",
    "\n",
    "    def backtrack(start, path, total):\n",
    "        if total == target:\n",
    "            result.append(path.copy())\n",
    "            return\n",
    "        if total > target:\n",
    "            return\n",
    "\n",
    "        for i in range(start, len(dishes)):\n",
    "            path.append(dishes[i])\n",
    "            backtrack(i, path, total + dishes[i])  \n",
    "            path.pop()\n",
    "\n",
    "    backtrack(0, [], 0)\n",
    "    return result\n",
    "dishes = [200, 250, 150]\n",
    "target = 700\n",
    "\n",
    "combinations = find(dishes, target)\n",
    "for i, combo in enumerate(combinations, 1):\n",
    "    print(f\"Combo {i}: {combo}\")"
   ]
  },
  {
   "cell_type": "code",
   "execution_count": null,
   "id": "5c90bc81",
   "metadata": {},
   "outputs": [
    {
     "name": "stdout",
     "output_type": "stream",
     "text": [
      "['ad', 'ae', 'af', 'bd', 'be', 'bf', 'cd', 'ce', 'cf']\n"
     ]
    }
   ],
   "source": [
    "# Q4. Phone Number to Words (Recursion + Backtracking)\n",
    "# Scenario:\n",
    "# You're building a contact suggestion system. Given a digit sequence like on a dialpad (2 → abc, 3 → def, etc.), generate all valid letter combinations.\n",
    "# Task:\n",
    "# Input: \"23\"\n",
    "# Output: [\"ad\", \"ae\", \"af\", \"bd\", \"be\", \"bf\", \"cd\", \"ce\", \"cf\"]\n",
    "# Tags: Recursion, backtracking, predictive text\n",
    "\n",
    "\n",
    "\n",
    "def phone(digits):\n",
    "    if not digits:\n",
    "        return []\n",
    "\n",
    "    digit= {\n",
    "        \"2\": \"abc\", \"3\": \"def\",\n",
    "        \"4\": \"ghi\", \"5\": \"jkl\",\n",
    "        \"6\": \"mno\", \"7\": \"pqrs\",\n",
    "        \"8\": \"tuv\", \"9\": \"wxyz\"\n",
    "    }\n",
    "\n",
    "    result = []\n",
    "\n",
    "    def backtrack(index, path):\n",
    "        if index == len(digits):\n",
    "            result.append(\"\".join(path))\n",
    "            return\n",
    "\n",
    "        for letter in digit[digits[index]]:\n",
    "            path.append(letter)\n",
    "            backtrack(index + 1, path)\n",
    "            path.pop()\n",
    "\n",
    "    backtrack(0, [])\n",
    "    return result\n",
    "print(phone(\"23\"))"
   ]
  },
  {
   "cell_type": "code",
   "execution_count": 4,
   "id": "bc454a96",
   "metadata": {},
   "outputs": [
    {
     "name": "stdout",
     "output_type": "stream",
     "text": [
      "DDRR\n",
      "RRDD\n"
     ]
    }
   ],
   "source": [
    "# Q2. Maze Path Finder (Recursion + Backtracking)\n",
    "# Scenario:\n",
    "# You are designing a robot for a warehouse. The robot starts at the top-left corner of a grid and must reach the bottom-right corner. It can only move down or right, and some cells have obstacles.\n",
    "# Task:\n",
    "# Given a grid with 0 (free) and 1 (obstacle), find all possible paths from start to end using recursion and backtracking.\n",
    "# Tags: Recursion, grid traversal, real-time path planning\n",
    "\n",
    "def find(x,y,path):\n",
    "    if x==2 and y==2:\n",
    "        print(path)\n",
    "        return\n",
    "    if x+1<=2 and grid[x+1][y]==0:\n",
    "        find(x+1,y,path+\"D\")\n",
    "    if y+1<=2 and grid[x][y+1]==0:\n",
    "        find(x,y+1,path+\"R\")\n",
    "grid=[\n",
    "    [0,0,0],\n",
    "    [0,1,0],\n",
    "    [0,0,0]\n",
    "]\n",
    "find(0,0,\"\")    "
   ]
  },
  {
   "cell_type": "code",
   "execution_count": 10,
   "id": "332d97b2",
   "metadata": {},
   "outputs": [
    {
     "name": "stdout",
     "output_type": "stream",
     "text": [
      "DDRR\n",
      "RRDD\n"
     ]
    }
   ],
   "source": [
    "def find(x,y,path):\n",
    "    if x==2 and y==2:\n",
    "        print(\"\".join(path))\n",
    "        return\n",
    "    if x+1 <= 2 and grid [x+1][y]==0:\n",
    "        path.append(\"D\")\n",
    "        find(x+1,y,path)\n",
    "        path.pop()\n",
    "\n",
    "    if y+1 <= 2 and grid[x][y+1]==0:\n",
    "        path.append(\"R\")\n",
    "        find(x,y+1,path)\n",
    "        path.pop()\n",
    "\n",
    "grid=[\n",
    "    [0,0,0],\n",
    "    [0,1,0],\n",
    "    [0,0,0]\n",
    "]\n",
    "\n",
    "find(0,0,[])"
   ]
  }
 ],
 "metadata": {
  "kernelspec": {
   "display_name": "Python 3",
   "language": "python",
   "name": "python3"
  },
  "language_info": {
   "codemirror_mode": {
    "name": "ipython",
    "version": 3
   },
   "file_extension": ".py",
   "mimetype": "text/x-python",
   "name": "python",
   "nbconvert_exporter": "python",
   "pygments_lexer": "ipython3",
   "version": "3.13.5"
  }
 },
 "nbformat": 4,
 "nbformat_minor": 5
}
